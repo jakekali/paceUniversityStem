{
  "nbformat": 4,
  "nbformat_minor": 0,
  "metadata": {
    "colab": {
      "name": "Pace University HW 1 .ipynb",
      "version": "0.3.2",
      "provenance": [],
      "include_colab_link": true
    },
    "kernelspec": {
      "name": "python3",
      "display_name": "Python 3"
    }
  },
  "cells": [
    {
      "cell_type": "markdown",
      "metadata": {
        "id": "view-in-github",
        "colab_type": "text"
      },
      "source": [
        "[View in Colaboratory](https://colab.research.google.com/github/jakekali/paceUniversityStem-/blob/master/Pace_University_HW_1_.ipynb)"
      ]
    },
    {
      "metadata": {
        "id": "cUGYWFvLjuws",
        "colab_type": "text"
      },
      "cell_type": "markdown",
      "source": [
        "Python: We consider a string s and want to get a new string built from s, with lower cases only and no spaces\n"
      ]
    },
    {
      "metadata": {
        "id": "Yq1kQFVUjYH6",
        "colab_type": "code",
        "colab": {
          "base_uri": "https://localhost:8080/",
          "height": 34
        },
        "outputId": "16756d0a-4c50-47c9-fcfc-a33df56eee4a"
      },
      "cell_type": "code",
      "source": [
        "s = \"I like to eat a lot of pizAa and icecream\"\n",
        "def removeSpaceLower(s):\n",
        "   return s.replace(\" \",\"\").lower()\n",
        "print (removeSpace(s))\n"
      ],
      "execution_count": 13,
      "outputs": [
        {
          "output_type": "stream",
          "text": [
            "iliketoeatalotofpizaaandicecream\n"
          ],
          "name": "stdout"
        }
      ]
    },
    {
      "metadata": {
        "id": "FGtrmWn3k8yO",
        "colab_type": "text"
      },
      "cell_type": "markdown",
      "source": [
        "Data: Read “Introduction to Data Analysis” and answer the questions at the end of sections 1.3 and 1.4\n"
      ]
    },
    {
      "metadata": {
        "id": "wAvRTZnWl-JQ",
        "colab_type": "text"
      },
      "cell_type": "markdown",
      "source": [
        "![alt text](https://jakekali.github.io/avCam/Capture.JPG)\n",
        "\n",
        "\n",
        "\n",
        "1.   Population: All the Candy Bars\n",
        "      Unit of Measure: Ounces/Grams\n",
        "      Type of Variable: Quantitive\n",
        "\n",
        "\n",
        "2.   Population: All the Socks\n",
        "      Unit of Measure: Color\n",
        "      Type of Variable: Categorical\n",
        "\n",
        "3.   Population: All people with type II diabetes \n",
        "      Unit of Measure: Color\n",
        "      Type of Variable: Categorical\n",
        "     \n",
        "4.   Type of Variable: Quantitive\n",
        "\n",
        "5.   Type of Variable: Quantitive\n",
        "\n",
        "6.   Type of Variable: Categorical\n",
        "\n",
        "![alt text](https://jakekali.github.io/avCam/Capture2.JPG)\n",
        "\n",
        "1. Ordinal\n",
        "2. Interval\n",
        "3. Ratio\n",
        "\n",
        "4. True, because the ordered choices come from a list of catogories\n",
        "5. True, since the distance between them also ranks them\n",
        "6. True,  since ratio measurement also have meaning in distance, but also have a starting point of 'zero'\n",
        "\n"
      ]
    }
  ]
}